{
 "cells": [
  {
   "cell_type": "markdown",
   "metadata": {},
   "source": [
    "# Eksplorasi dan Analisis Data Penawaran Harga Rumah "
   ]
  },
  {
   "cell_type": "markdown",
   "metadata": {},
   "source": [
    "# Penjelasan Mengenai Dataset Properti di Bandung\n",
    "\n",
    "Dataset ini terdiri dari dua versi, yaitu **dataset yang sudah dibersihkan (cleaned dataset)** dan **dataset mentah (raw dataset)**. Kedua dataset ini diperoleh melalui proses web scraping dari situs www.rumah123.com pada bulan Maret 2024 dan fokus pada properti rumah di Bandung, Jawa Barat, Indonesia.\n",
    "\n",
    "### 1. Dataset yang Sudah Dibersihkan\n",
    "Dataset yang sudah dibersihkan berisi data yang lebih terstruktur dan telah melalui proses pembersihan untuk menghilangkan kesalahan atau data yang tidak relevan. Atribut yang ada dalam dataset ini meliputi:\n",
    "\n",
    "- **Nama Rumah**: Nama atau judul dari properti rumah.\n",
    "- **Lokasi**: Lokasi properti di Bandung.\n",
    "- **Jumlah Kamar Tidur**: Jumlah kamar tidur dalam rumah.\n",
    "- **Jumlah Kamar Mandi**: Jumlah kamar mandi yang tersedia.\n",
    "- **Jumlah Carport**: Jumlah tempat parkir mobil.\n",
    "- **Harga**: Harga rumah dalam Rupiah (IDR).\n",
    "- **Luas Tanah**: Luas tanah dalam meter persegi.\n",
    "- **Luas Bangunan**: Luas bangunan rumah dalam meter persegi.\n",
    "\n",
    "### 2. Dataset Mentah\n",
    "Dataset mentah berisi data yang belum diproses dan mungkin mengandung informasi yang tidak konsisten. Selain atribut yang sama seperti pada dataset yang sudah dibersihkan, dataset mentah juga mencakup beberapa atribut tambahan, seperti:\n",
    "\n",
    "- **Tipe Properti**: Jenis atau kategori properti (misalnya rumah, apartemen).\n",
    "- **Status**: Status properti (misalnya tersedia, sudah terjual).\n",
    "- **Cicilan**: Detail mengenai opsi pembayaran cicilan untuk properti.\n",
    "\n",
    "### 3. Lokasi\n",
    "- **Kota**: Bandung\n",
    "- **Provinsi**: Jawa Barat\n",
    "- **Negara**: Indonesia\n",
    "\n",
    "### 4. Tujuan Dataset\n",
    "Dataset ini bertujuan untuk mendukung penelitian dan analisis di bidang real estate, terutama analisis regresi harga rumah di Bandung. Dataset yang sudah dibersihkan memberikan data yang lebih terstruktur dan siap untuk analisis, sedangkan dataset mentah menyediakan data yang lebih lengkap dengan atribut tambahan yang memungkinkan pembersihan dan pemrosesan lebih lanjut.\n",
    "\n",
    "Dengan kedua versi dataset ini, peneliti, ilmuwan data, dan analis dapat memilih dataset yang paling sesuai dengan kebutuhan mereka, apakah untuk analisis eksploratori, pemodelan prediktif, atau penelitian terkait harga properti. Dataset ini juga mengisi kekosongan dalam ketersediaan data terkait regresi harga rumah di Bandung, Jawa Barat.\n",
    "\n",
    "### Kesimpulan\n",
    "Dataset properti rumah di Bandung ini memberikan gambaran yang lebih lengkap mengenai pasar properti di kota tersebut. Dataset yang sudah dibersihkan siap digunakan untuk analisis lebih lanjut, sementara dataset mentah memberikan informasi tambahan yang bisa diproses untuk memperoleh wawasan yang lebih dalam. Dengan adanya dataset ini, diharapkan dapat membantu penelitian terkait pasar properti dan harga rumah di Bandung."
   ]
  },
  {
   "cell_type": "markdown",
   "metadata": {},
   "source": [
    "# 1.1 Mempersiapkan Data"
   ]
  },
  {
   "cell_type": "markdown",
   "metadata": {},
   "source": [
    "Kode berikut menyediakan modul dan opsi yang digunakan dalam notebook ini. File konfigurasi lingkungan analisis khusus (*.yaml*) disertakan dalam folder \\Environment yang terdapat dalam repositori ini."
   ]
  },
  {
   "cell_type": "code",
   "execution_count": 19,
   "metadata": {},
   "outputs": [],
   "source": [
    "# data wrangling, inspecting and utilities modules\n",
    "import pandas as pd\n",
    "import numpy as np\n",
    "import itertools\n",
    "import re\n",
    "import warnings\n",
    "# statistical analysis modules\n",
    "from scipy.stats.mstats import mquantiles_cimj, median_cihs\n",
    "from scipy.stats import bootstrap\n",
    "# informative chart modules\n",
    "import matplotlib.pyplot as plt\n",
    "import seaborn as sns\n",
    "from plotly.graph_objs import Scattermapbox, Layout, Figure\n",
    "import plotly.express as px\n",
    "# data transformation modules\n",
    "from sklearn.model_selection import train_test_split\n",
    "from sklearn.impute import SimpleImputer, KNNImputer\n",
    "from sklearn.base import BaseEstimator, TransformerMixin\n",
    "# modules automating transformation flow\n",
    "from sklearn.compose import ColumnTransformer\n",
    "from sklearn.pipeline import make_pipeline\n",
    "from sklearn import set_config\n",
    "from joblib import dump\n"
   ]
  },
  {
   "cell_type": "code",
   "execution_count": 20,
   "metadata": {},
   "outputs": [],
   "source": [
    "# Load the data \n",
    "house_df = pd.read_csv(r'/workspaces/Belajar-Machine-Learning-Dasar/Belajar/data/results.csv')"
   ]
  },
  {
   "cell_type": "markdown",
   "metadata": {},
   "source": [
    "## 1.2. Fitur Dataset \n",
    "Bab ini menjelaskan features atau variables yang disediakan dalam dataset."
   ]
  },
  {
   "cell_type": "code",
   "execution_count": 16,
   "metadata": {},
   "outputs": [
    {
     "data": {
      "text/html": [
       "<div>\n",
       "<style scoped>\n",
       "    .dataframe tbody tr th:only-of-type {\n",
       "        vertical-align: middle;\n",
       "    }\n",
       "\n",
       "    .dataframe tbody tr th {\n",
       "        vertical-align: top;\n",
       "    }\n",
       "\n",
       "    .dataframe thead th {\n",
       "        text-align: right;\n",
       "    }\n",
       "</style>\n",
       "<table border=\"1\" class=\"dataframe\">\n",
       "  <thead>\n",
       "    <tr style=\"text-align: right;\">\n",
       "      <th>features</th>\n",
       "      <th>3132</th>\n",
       "    </tr>\n",
       "  </thead>\n",
       "  <tbody>\n",
       "    <tr>\n",
       "      <th>Rumah</th>\n",
       "      <td>Rumah</td>\n",
       "    </tr>\n",
       "    <tr>\n",
       "      <th>Premier</th>\n",
       "      <td>NaN</td>\n",
       "    </tr>\n",
       "    <tr>\n",
       "      <th>Rp 2,1 Miliar</th>\n",
       "      <td>Rp 2,7 Miliar</td>\n",
       "    </tr>\n",
       "    <tr>\n",
       "      <th>Cicilan: 7 Jutaan per bulan</th>\n",
       "      <td>Cicilan: 10 Jutaan per bulan</td>\n",
       "    </tr>\n",
       "    <tr>\n",
       "      <th>Rumah 2 Lantai Bagus Sertifikat Hak Milik di Maltra Residence, Bandung</th>\n",
       "      <td>Rumah Bagus Siap Huni Berlokasi di Buah Batu K...</td>\n",
       "    </tr>\n",
       "    <tr>\n",
       "      <th>Andir, Bandung</th>\n",
       "      <td>Buah Batu, Bandung</td>\n",
       "    </tr>\n",
       "    <tr>\n",
       "      <th>3</th>\n",
       "      <td>8</td>\n",
       "    </tr>\n",
       "    <tr>\n",
       "      <th>2</th>\n",
       "      <td>6</td>\n",
       "    </tr>\n",
       "    <tr>\n",
       "      <th>2.1</th>\n",
       "      <td>1</td>\n",
       "    </tr>\n",
       "    <tr>\n",
       "      <th>137 m²</th>\n",
       "      <td>563 m²</td>\n",
       "    </tr>\n",
       "    <tr>\n",
       "      <th>170 m²</th>\n",
       "      <td>400 m²</td>\n",
       "    </tr>\n",
       "  </tbody>\n",
       "</table>\n",
       "</div>"
      ],
      "text/plain": [
       "features                                                                                         3132\n",
       "Rumah                                                                                           Rumah\n",
       "Premier                                                                                           NaN\n",
       "Rp 2,1 Miliar                                                                           Rp 2,7 Miliar\n",
       "Cicilan: 7 Jutaan per bulan                                              Cicilan: 10 Jutaan per bulan\n",
       "Rumah 2 Lantai Bagus Sertifikat Hak Milik di Ma...  Rumah Bagus Siap Huni Berlokasi di Buah Batu K...\n",
       "Andir, Bandung                                                                     Buah Batu, Bandung\n",
       "3                                                                                                   8\n",
       "2                                                                                                   6\n",
       "2.1                                                                                                 1\n",
       "137 m²                                                                                         563 m²\n",
       "170 m²                                                                                         400 m²"
      ]
     },
     "execution_count": 16,
     "metadata": {},
     "output_type": "execute_result"
    }
   ],
   "source": [
    "features = house_df.sample(1).T.rename_axis('features', axis='columns')\n",
    "\n",
    "features"
   ]
  },
  {
   "cell_type": "markdown",
   "metadata": {},
   "source": [
    "### Penjelasan Fitur dalam Dataset Properti di Bandung\n",
    "\n",
    "Dataset ini berisi sejumlah fitur atau variabel yang menggambarkan properti rumah di Bandung. Setiap fitur mewakili karakteristik tertentu dari properti yang dapat digunakan untuk analisis atau penelitian lebih lanjut. Berikut adalah penjelasan singkat mengenai fitur-fitur yang disediakan dalam dataset:\n",
    "\n",
    "#### 1. **Nama Rumah**\n",
    "   - Menyediakan deskripsi singkat atau nama properti, seperti:\n",
    "     - *\"Rumah 2 Lantai Bagus Sertifikat Hak Milik di Maltra Residence, Bandung\"*\n",
    "     - *\"Rumah Bagus Siap Huni Berlokasi di Buah Batu, Bandung\"*\n",
    "\n",
    "#### 2. **Lokasi**\n",
    "   - Menunjukkan lokasi properti di dalam kota Bandung, termasuk area atau kecamatannya. Contoh:\n",
    "     - *Andir, Bandung*\n",
    "     - *Buah Batu, Bandung*\n",
    "\n",
    "#### 3. **Jumlah Kamar Tidur (Bedroom Count)**\n",
    "   - Menyebutkan jumlah kamar tidur yang tersedia di rumah tersebut.\n",
    "     - Contoh: 3 kamar tidur, 8 kamar tidur.\n",
    "\n",
    "#### 4. **Jumlah Kamar Mandi (Bathroom Count)**\n",
    "   - Menginformasikan jumlah kamar mandi yang tersedia.\n",
    "     - Contoh: 2 kamar mandi, 6 kamar mandi.\n",
    "\n",
    "#### 5. **Jumlah Carport (Carport Count)**\n",
    "   - Menunjukkan jumlah area parkir mobil atau carport yang tersedia.\n",
    "     - Contoh: 2 carport, 1 carport.\n",
    "\n",
    "#### 6. **Harga Properti**\n",
    "   - Memberikan informasi mengenai harga properti dalam Rupiah (IDR).\n",
    "     - Contoh: Rp 2,1 Miliar, Rp 2,7 Miliar.\n",
    "\n",
    "#### 7. **Cicilan**\n",
    "   - Menyediakan informasi tentang estimasi cicilan bulanan jika properti dibeli dengan sistem pembayaran cicilan.\n",
    "     - Contoh: *\"Cicilan: 7 Jutaan per bulan\"*, *\"Cicilan: 10 Jutaan per bulan\"*.\n",
    "\n",
    "#### 8. **Luas Tanah (Land Area)**\n",
    "   - Menunjukkan luas tanah dari properti dalam satuan meter persegi (m²).\n",
    "     - Contoh: 137 m², 563 m².\n",
    "\n",
    "#### 9. **Luas Bangunan (Building Area)**\n",
    "   - Menyediakan informasi mengenai luas bangunan properti dalam meter persegi (m²).\n",
    "     - Contoh: 170 m², 400 m².\n",
    "\n",
    "---\n",
    "\n",
    "#### Kesimpulan\n",
    "Fitur-fitur yang ada dalam dataset ini memberikan gambaran lengkap mengenai properti rumah di Bandung. Mulai dari informasi deskriptif seperti nama rumah dan lokasi, hingga spesifikasi teknis seperti jumlah kamar, harga, luas tanah, dan luas bangunan. Dengan data ini, analisis seperti penentuan harga berdasarkan lokasi, ukuran rumah, atau jumlah kamar dapat dilakukan dengan lebih mudah."
   ]
  },
  {
   "cell_type": "markdown",
   "metadata": {},
   "source": [
    "### Tipe Data Setiap Fitur"
   ]
  },
  {
   "cell_type": "markdown",
   "metadata": {},
   "source": [
    "Setiap variabel dalam dataset sebaiknya direpresentasikan menggunakan tipe data yang sesuai, seperti integer, float, string, atau kategorikal. Berikut adalah pendekatan yang akan digunakan:\n",
    "\n",
    "- Fitur-fitur yang merepresentasikan jumlah atau kuantitas tertentu (seperti jumlah carport yang tersedia) lebih cocok direpresentasikan sebagai bilangan bulat. Untuk kemudahan analisis, tipe data dari masing-masing fitur akan ditentukan dengan jelas.  \n",
    "- Beberapa fitur memiliki tipe data kategorikal, seperti *certificate* (sertifikat), sementara beberapa kategori lain memiliki hierarki atau urutan alami, seperti *electricity* (kelistrikan)."
   ]
  },
  {
   "cell_type": "code",
   "execution_count": 22,
   "metadata": {},
   "outputs": [
    {
     "name": "stdout",
     "output_type": "stream",
     "text": [
      "<class 'pandas.core.frame.DataFrame'>\n",
      "RangeIndex: 7610 entries, 0 to 7609\n",
      "Data columns (total 11 columns):\n",
      " #   Column                                                                  Non-Null Count  Dtype \n",
      "---  ------                                                                  --------------  ----- \n",
      " 0   Rumah                                                                   7610 non-null   object\n",
      " 1   Premier                                                                 144 non-null    object\n",
      " 2   Rp 2,1 Miliar                                                           7610 non-null   object\n",
      " 3   Cicilan: 7 Jutaan per bulan                                             7610 non-null   object\n",
      " 4   Rumah 2 Lantai Bagus Sertifikat Hak Milik di Maltra Residence, Bandung  7610 non-null   object\n",
      " 5   Andir, Bandung                                                          7610 non-null   object\n",
      " 6   3                                                                       7610 non-null   int64 \n",
      " 7   2                                                                       7610 non-null   int64 \n",
      " 8   2.1                                                                     7610 non-null   int64 \n",
      " 9   137 m²                                                                  7608 non-null   object\n",
      " 10  170 m²                                                                  7609 non-null   object\n",
      "dtypes: int64(3), object(8)\n",
      "memory usage: 654.1+ KB\n"
     ]
    }
   ],
   "source": [
    "house_df.info()"
   ]
  },
  {
   "cell_type": "code",
   "execution_count": null,
   "metadata": {},
   "outputs": [],
   "source": [
    "# View data types\n",
    "house_df.dtypes"
   ]
  },
  {
   "cell_type": "code",
   "execution_count": null,
   "metadata": {},
   "outputs": [],
   "source": [
    "# Split data into numerical and categorical types\n",
    "numerical_cols = house_df.select_dtypes(include=['int64', 'float64']).columns\n",
    "categorical_cols = house_df.select_dtypes(include=['object', 'category']).columns\n",
    "\n",
    "print('Numerical columns:', numerical_cols)\n",
    "print('Categorical columns:', categorical_cols)"
   ]
  }
 ],
 "metadata": {
  "kernelspec": {
   "display_name": ".venv",
   "language": "python",
   "name": "python3"
  },
  "language_info": {
   "codemirror_mode": {
    "name": "ipython",
    "version": 3
   },
   "file_extension": ".py",
   "mimetype": "text/x-python",
   "name": "python",
   "nbconvert_exporter": "python",
   "pygments_lexer": "ipython3",
   "version": "3.12.1"
  }
 },
 "nbformat": 4,
 "nbformat_minor": 2
}
