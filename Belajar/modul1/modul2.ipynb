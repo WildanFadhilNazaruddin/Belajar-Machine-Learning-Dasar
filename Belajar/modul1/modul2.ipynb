{
 "cells": [
  {
   "cell_type": "code",
   "execution_count": 1,
   "metadata": {},
   "outputs": [
    {
     "name": "stdout",
     "output_type": "stream",
     "text": [
      "Unzipping /workspaces/Belajar-Machine-Learning-Dasar/harga-rumah-seluruh-kecamatan-di-kota-bandung.zip to /workspaces/Belajar-Machine-Learning-Dasar/Belajar /data\n",
      "Unzipping completed.\n"
     ]
    }
   ],
   "source": [
    "import zipfile\n",
    "import os\n",
    "\n",
    "# Path to the zip file\n",
    "zip_file = r'/workspaces/Belajar-Machine-Learning-Dasar/harga-rumah-seluruh-kecamatan-di-kota-bandung.zip'\n",
    "\n",
    "# Destination directory\n",
    "dest_dir = r'/workspaces/Belajar-Machine-Learning-Dasar/Belajar /data'\n",
    "\n",
    "# Check if the zip file exists\n",
    "if os.path.isfile(zip_file):\n",
    "    print(f\"Unzipping {zip_file} to {dest_dir}\")\n",
    "    # Create the destination directory if it doesn't exist\n",
    "    os.makedirs(dest_dir, exist_ok=True)\n",
    "    # Unzip the file\n",
    "    with zipfile.ZipFile(zip_file, 'r') as zip_ref:\n",
    "        zip_ref.extractall(dest_dir)\n",
    "    print(\"Unzipping completed.\")\n",
    "else:\n",
    "    print(f\"File {zip_file} does not exist.\")"
   ]
  }
 ],
 "metadata": {
  "kernelspec": {
   "display_name": ".venv",
   "language": "python",
   "name": "python3"
  },
  "language_info": {
   "codemirror_mode": {
    "name": "ipython",
    "version": 3
   },
   "file_extension": ".py",
   "mimetype": "text/x-python",
   "name": "python",
   "nbconvert_exporter": "python",
   "pygments_lexer": "ipython3",
   "version": "3.12.1"
  }
 },
 "nbformat": 4,
 "nbformat_minor": 2
}
