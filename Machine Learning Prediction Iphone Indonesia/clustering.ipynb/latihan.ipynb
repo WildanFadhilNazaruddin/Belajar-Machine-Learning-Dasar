{
 "cells": [
  {
   "cell_type": "code",
   "execution_count": 4,
   "metadata": {},
   "outputs": [],
   "source": [
    "# Import Libry\n",
    "import pandas as pd\n",
    "import numpy as np\n",
    "import seaborn as sns\n",
    "import matplotlib.pyplot as plt\n",
    "from sklearn.model_selection import train_test_split\n",
    "from sklearn.preprocessing import LabelEncoder, StandardScaler, MinMaxScaler\n",
    "from sklearn.neighbors import KNeighborsClassifier\n",
    "from sklearn.tree import DecisionTreeClassifier\n",
    "from sklearn.ensemble import RandomForestClassifier\n",
    "from sklearn.svm import SVC\n",
    "from sklearn.naive_bayes import GaussianNB\n",
    "from sklearn.metrics import confusion_matrix, accuracy_score, precision_score, recall_score, f1_score"
   ]
  },
  {
   "cell_type": "code",
   "execution_count": 5,
   "metadata": {},
   "outputs": [],
   "source": [
    "#load data\n",
    "customer = pd.read_csv(r'/workspaces/Belajar-Machine-Learning-Dasar/Machine Learning Prediction Iphone Indonesia/clustering.ipynb/data/customers.csv')\n",
    "product = pd.read_csv(r'/workspaces/Belajar-Machine-Learning-Dasar/Machine Learning Prediction Iphone Indonesia/clustering.ipynb/data/products.csv')\n",
    "transaction_deatil = pd.read_csv(r'/workspaces/Belajar-Machine-Learning-Dasar/Machine Learning Prediction Iphone Indonesia/clustering.ipynb/data/transaction_details.csv')\n",
    "transaction = pd.read_csv(r'/workspaces/Belajar-Machine-Learning-Dasar/Machine Learning Prediction Iphone Indonesia/clustering.ipynb/data/transactions.csv')\n"
   ]
  },
  {
   "cell_type": "code",
   "execution_count": 6,
   "metadata": {},
   "outputs": [
    {
     "data": {
      "text/html": [
       "<div>\n",
       "<style scoped>\n",
       "    .dataframe tbody tr th:only-of-type {\n",
       "        vertical-align: middle;\n",
       "    }\n",
       "\n",
       "    .dataframe tbody tr th {\n",
       "        vertical-align: top;\n",
       "    }\n",
       "\n",
       "    .dataframe thead th {\n",
       "        text-align: right;\n",
       "    }\n",
       "</style>\n",
       "<table border=\"1\" class=\"dataframe\">\n",
       "  <thead>\n",
       "    <tr style=\"text-align: right;\">\n",
       "      <th></th>\n",
       "      <th>customer_id</th>\n",
       "      <th>name</th>\n",
       "      <th>email</th>\n",
       "      <th>address</th>\n",
       "      <th>phone_number</th>\n",
       "      <th>age</th>\n",
       "      <th>city</th>\n",
       "      <th>preferred_product_id</th>\n",
       "    </tr>\n",
       "  </thead>\n",
       "  <tbody>\n",
       "    <tr>\n",
       "      <th>0</th>\n",
       "      <td>1</td>\n",
       "      <td>Pranata Natsir</td>\n",
       "      <td>marsudimaryati@example.net</td>\n",
       "      <td>Gang K.H. Wahid Hasyim No. 2\\nProbolinggo, Sul...</td>\n",
       "      <td>(049) 526-4376</td>\n",
       "      <td>28</td>\n",
       "      <td>Medan</td>\n",
       "      <td>4</td>\n",
       "    </tr>\n",
       "  </tbody>\n",
       "</table>\n",
       "</div>"
      ],
      "text/plain": [
       "   customer_id            name                       email  \\\n",
       "0            1  Pranata Natsir  marsudimaryati@example.net   \n",
       "\n",
       "                                             address    phone_number  age  \\\n",
       "0  Gang K.H. Wahid Hasyim No. 2\\nProbolinggo, Sul...  (049) 526-4376   28   \n",
       "\n",
       "    city  preferred_product_id  \n",
       "0  Medan                     4  "
      ]
     },
     "execution_count": 6,
     "metadata": {},
     "output_type": "execute_result"
    }
   ],
   "source": [
    "# Melihat data secara keseluruhan dari customer\n",
    "customer.head(1)"
   ]
  },
  {
   "cell_type": "code",
   "execution_count": 7,
   "metadata": {},
   "outputs": [
    {
     "data": {
      "text/html": [
       "<div>\n",
       "<style scoped>\n",
       "    .dataframe tbody tr th:only-of-type {\n",
       "        vertical-align: middle;\n",
       "    }\n",
       "\n",
       "    .dataframe tbody tr th {\n",
       "        vertical-align: top;\n",
       "    }\n",
       "\n",
       "    .dataframe thead th {\n",
       "        text-align: right;\n",
       "    }\n",
       "</style>\n",
       "<table border=\"1\" class=\"dataframe\">\n",
       "  <thead>\n",
       "    <tr style=\"text-align: right;\">\n",
       "      <th></th>\n",
       "      <th>product_id</th>\n",
       "      <th>product_name</th>\n",
       "      <th>category</th>\n",
       "      <th>brand</th>\n",
       "      <th>price</th>\n",
       "      <th>description</th>\n",
       "      <th>discount</th>\n",
       "      <th>storage</th>\n",
       "      <th>color</th>\n",
       "      <th>release_year</th>\n",
       "      <th>years_since_release</th>\n",
       "      <th>sales_factor</th>\n",
       "      <th>preferred_product_id</th>\n",
       "    </tr>\n",
       "  </thead>\n",
       "  <tbody>\n",
       "    <tr>\n",
       "      <th>0</th>\n",
       "      <td>1</td>\n",
       "      <td>iPhone 15</td>\n",
       "      <td>Smartphone</td>\n",
       "      <td>Apple</td>\n",
       "      <td>12000000</td>\n",
       "      <td>Accusantium enim inventore optio eum quam atque.</td>\n",
       "      <td>15</td>\n",
       "      <td>128GB</td>\n",
       "      <td>Black</td>\n",
       "      <td>2023</td>\n",
       "      <td>1</td>\n",
       "      <td>0.9</td>\n",
       "      <td>1</td>\n",
       "    </tr>\n",
       "  </tbody>\n",
       "</table>\n",
       "</div>"
      ],
      "text/plain": [
       "   product_id product_name    category  brand     price  \\\n",
       "0           1    iPhone 15  Smartphone  Apple  12000000   \n",
       "\n",
       "                                        description  discount storage  color  \\\n",
       "0  Accusantium enim inventore optio eum quam atque.        15   128GB  Black   \n",
       "\n",
       "   release_year  years_since_release  sales_factor  preferred_product_id  \n",
       "0          2023                    1           0.9                     1  "
      ]
     },
     "execution_count": 7,
     "metadata": {},
     "output_type": "execute_result"
    }
   ],
   "source": [
    "# Melihat data secara keseluruhan dari product\n",
    "product.head(1)"
   ]
  },
  {
   "cell_type": "code",
   "execution_count": 8,
   "metadata": {},
   "outputs": [
    {
     "data": {
      "text/html": [
       "<div>\n",
       "<style scoped>\n",
       "    .dataframe tbody tr th:only-of-type {\n",
       "        vertical-align: middle;\n",
       "    }\n",
       "\n",
       "    .dataframe tbody tr th {\n",
       "        vertical-align: top;\n",
       "    }\n",
       "\n",
       "    .dataframe thead th {\n",
       "        text-align: right;\n",
       "    }\n",
       "</style>\n",
       "<table border=\"1\" class=\"dataframe\">\n",
       "  <thead>\n",
       "    <tr style=\"text-align: right;\">\n",
       "      <th></th>\n",
       "      <th>transaction_id</th>\n",
       "      <th>product_id</th>\n",
       "      <th>quantity</th>\n",
       "      <th>unit_price</th>\n",
       "      <th>discount</th>\n",
       "      <th>total</th>\n",
       "    </tr>\n",
       "  </thead>\n",
       "  <tbody>\n",
       "    <tr>\n",
       "      <th>0</th>\n",
       "      <td>25218</td>\n",
       "      <td>12</td>\n",
       "      <td>3</td>\n",
       "      <td>7000000</td>\n",
       "      <td>15</td>\n",
       "      <td>17850000.0</td>\n",
       "    </tr>\n",
       "  </tbody>\n",
       "</table>\n",
       "</div>"
      ],
      "text/plain": [
       "   transaction_id  product_id  quantity  unit_price  discount       total\n",
       "0           25218          12         3     7000000        15  17850000.0"
      ]
     },
     "execution_count": 8,
     "metadata": {},
     "output_type": "execute_result"
    }
   ],
   "source": [
    "# Melihat data secara keseluruhan dari transaction_detail\n",
    "transaction_deatil.head(1)"
   ]
  },
  {
   "cell_type": "code",
   "execution_count": 9,
   "metadata": {},
   "outputs": [
    {
     "data": {
      "text/html": [
       "<div>\n",
       "<style scoped>\n",
       "    .dataframe tbody tr th:only-of-type {\n",
       "        vertical-align: middle;\n",
       "    }\n",
       "\n",
       "    .dataframe tbody tr th {\n",
       "        vertical-align: top;\n",
       "    }\n",
       "\n",
       "    .dataframe thead th {\n",
       "        text-align: right;\n",
       "    }\n",
       "</style>\n",
       "<table border=\"1\" class=\"dataframe\">\n",
       "  <thead>\n",
       "    <tr style=\"text-align: right;\">\n",
       "      <th></th>\n",
       "      <th>transaction_id</th>\n",
       "      <th>customer_id</th>\n",
       "      <th>transaction_date</th>\n",
       "      <th>total_amount</th>\n",
       "      <th>payment_method</th>\n",
       "      <th>shipping_method</th>\n",
       "      <th>delivery_time</th>\n",
       "      <th>coupon_code</th>\n",
       "      <th>city</th>\n",
       "      <th>product_id</th>\n",
       "      <th>sales_factor</th>\n",
       "    </tr>\n",
       "  </thead>\n",
       "  <tbody>\n",
       "    <tr>\n",
       "      <th>0</th>\n",
       "      <td>1</td>\n",
       "      <td>506</td>\n",
       "      <td>2023-07-22</td>\n",
       "      <td>11300000.0</td>\n",
       "      <td>Cash on Delivery</td>\n",
       "      <td>Tiki</td>\n",
       "      <td>1 minggu</td>\n",
       "      <td>GRATISONGKIR</td>\n",
       "      <td>Jakarta</td>\n",
       "      <td>12</td>\n",
       "      <td>0.7</td>\n",
       "    </tr>\n",
       "  </tbody>\n",
       "</table>\n",
       "</div>"
      ],
      "text/plain": [
       "   transaction_id  customer_id transaction_date  total_amount  \\\n",
       "0               1          506       2023-07-22    11300000.0   \n",
       "\n",
       "     payment_method shipping_method delivery_time   coupon_code     city  \\\n",
       "0  Cash on Delivery            Tiki      1 minggu  GRATISONGKIR  Jakarta   \n",
       "\n",
       "   product_id  sales_factor  \n",
       "0          12           0.7  "
      ]
     },
     "execution_count": 9,
     "metadata": {},
     "output_type": "execute_result"
    }
   ],
   "source": [
    "# Melihat data secara keseluruhan dari transaction\n",
    "transaction.head(1)"
   ]
  },
  {
   "cell_type": "code",
   "execution_count": 10,
   "metadata": {},
   "outputs": [
    {
     "data": {
      "text/html": [
       "<div>\n",
       "<style scoped>\n",
       "    .dataframe tbody tr th:only-of-type {\n",
       "        vertical-align: middle;\n",
       "    }\n",
       "\n",
       "    .dataframe tbody tr th {\n",
       "        vertical-align: top;\n",
       "    }\n",
       "\n",
       "    .dataframe thead th {\n",
       "        text-align: right;\n",
       "    }\n",
       "</style>\n",
       "<table border=\"1\" class=\"dataframe\">\n",
       "  <thead>\n",
       "    <tr style=\"text-align: right;\">\n",
       "      <th></th>\n",
       "      <th>customer_id</th>\n",
       "      <th>name</th>\n",
       "      <th>email</th>\n",
       "      <th>address</th>\n",
       "      <th>phone_number</th>\n",
       "      <th>age</th>\n",
       "      <th>city</th>\n",
       "      <th>preferred_product_id</th>\n",
       "    </tr>\n",
       "  </thead>\n",
       "  <tbody>\n",
       "    <tr>\n",
       "      <th>0</th>\n",
       "      <td>1</td>\n",
       "      <td>Pranata Natsir</td>\n",
       "      <td>marsudimaryati@example.net</td>\n",
       "      <td>Gang K.H. Wahid Hasyim No. 2\\nProbolinggo, Sul...</td>\n",
       "      <td>(049) 526-4376</td>\n",
       "      <td>28</td>\n",
       "      <td>Medan</td>\n",
       "      <td>4</td>\n",
       "    </tr>\n",
       "  </tbody>\n",
       "</table>\n",
       "</div>"
      ],
      "text/plain": [
       "   customer_id            name                       email  \\\n",
       "0            1  Pranata Natsir  marsudimaryati@example.net   \n",
       "\n",
       "                                             address    phone_number  age  \\\n",
       "0  Gang K.H. Wahid Hasyim No. 2\\nProbolinggo, Sul...  (049) 526-4376   28   \n",
       "\n",
       "    city  preferred_product_id  \n",
       "0  Medan                     4  "
      ]
     },
     "execution_count": 10,
     "metadata": {},
     "output_type": "execute_result"
    }
   ],
   "source": [
    "customer.head(1)"
   ]
  },
  {
   "cell_type": "code",
   "execution_count": 11,
   "metadata": {},
   "outputs": [
    {
     "name": "stdout",
     "output_type": "stream",
     "text": [
      "customer_id             0\n",
      "name                    0\n",
      "email                   0\n",
      "address                 0\n",
      "phone_number            0\n",
      "age                     0\n",
      "city                    0\n",
      "preferred_product_id    0\n",
      "dtype: int64\n"
     ]
    }
   ],
   "source": [
    "# Melihat data yang null\n",
    "print(customer.isnull().sum())"
   ]
  },
  {
   "cell_type": "code",
   "execution_count": 12,
   "metadata": {},
   "outputs": [
    {
     "data": {
      "text/plain": [
       "product_id              0\n",
       "product_name            0\n",
       "category                0\n",
       "brand                   0\n",
       "price                   0\n",
       "description             0\n",
       "discount                0\n",
       "storage                 0\n",
       "color                   0\n",
       "release_year            0\n",
       "years_since_release     0\n",
       "sales_factor            0\n",
       "preferred_product_id    0\n",
       "dtype: int64"
      ]
     },
     "execution_count": 12,
     "metadata": {},
     "output_type": "execute_result"
    }
   ],
   "source": [
    "product.isnull().sum()"
   ]
  },
  {
   "cell_type": "code",
   "execution_count": 13,
   "metadata": {},
   "outputs": [
    {
     "data": {
      "text/plain": [
       "transaction_id    0\n",
       "product_id        0\n",
       "quantity          0\n",
       "unit_price        0\n",
       "discount          0\n",
       "total             0\n",
       "dtype: int64"
      ]
     },
     "execution_count": 13,
     "metadata": {},
     "output_type": "execute_result"
    }
   ],
   "source": [
    "transaction_deatil.isnull().sum()"
   ]
  },
  {
   "cell_type": "code",
   "execution_count": 14,
   "metadata": {},
   "outputs": [
    {
     "data": {
      "text/plain": [
       "transaction_id          0\n",
       "customer_id             0\n",
       "transaction_date        0\n",
       "total_amount            0\n",
       "payment_method          0\n",
       "shipping_method         0\n",
       "delivery_time           0\n",
       "coupon_code         25044\n",
       "city                    0\n",
       "product_id              0\n",
       "sales_factor            0\n",
       "dtype: int64"
      ]
     },
     "execution_count": 14,
     "metadata": {},
     "output_type": "execute_result"
    }
   ],
   "source": [
    "transaction.isnull().sum()"
   ]
  },
  {
   "cell_type": "code",
   "execution_count": 15,
   "metadata": {},
   "outputs": [],
   "source": [
    "# mengisi nilai null dengan nilai yang sesuai yaitu No\n",
    "transaction['coupon_code'] = transaction['coupon_code'].fillna('No')"
   ]
  },
  {
   "cell_type": "code",
   "execution_count": 16,
   "metadata": {},
   "outputs": [
    {
     "data": {
      "text/html": [
       "<div>\n",
       "<style scoped>\n",
       "    .dataframe tbody tr th:only-of-type {\n",
       "        vertical-align: middle;\n",
       "    }\n",
       "\n",
       "    .dataframe tbody tr th {\n",
       "        vertical-align: top;\n",
       "    }\n",
       "\n",
       "    .dataframe thead th {\n",
       "        text-align: right;\n",
       "    }\n",
       "</style>\n",
       "<table border=\"1\" class=\"dataframe\">\n",
       "  <thead>\n",
       "    <tr style=\"text-align: right;\">\n",
       "      <th></th>\n",
       "      <th>transaction_id</th>\n",
       "      <th>customer_id</th>\n",
       "      <th>transaction_date</th>\n",
       "      <th>total_amount</th>\n",
       "      <th>payment_method</th>\n",
       "      <th>shipping_method</th>\n",
       "      <th>delivery_time</th>\n",
       "      <th>coupon_code</th>\n",
       "      <th>city</th>\n",
       "      <th>product_id</th>\n",
       "      <th>sales_factor</th>\n",
       "    </tr>\n",
       "  </thead>\n",
       "  <tbody>\n",
       "    <tr>\n",
       "      <th>0</th>\n",
       "      <td>1</td>\n",
       "      <td>506</td>\n",
       "      <td>2023-07-22</td>\n",
       "      <td>11300000.0</td>\n",
       "      <td>Cash on Delivery</td>\n",
       "      <td>Tiki</td>\n",
       "      <td>1 minggu</td>\n",
       "      <td>GRATISONGKIR</td>\n",
       "      <td>Jakarta</td>\n",
       "      <td>12</td>\n",
       "      <td>0.7</td>\n",
       "    </tr>\n",
       "  </tbody>\n",
       "</table>\n",
       "</div>"
      ],
      "text/plain": [
       "   transaction_id  customer_id transaction_date  total_amount  \\\n",
       "0               1          506       2023-07-22    11300000.0   \n",
       "\n",
       "     payment_method shipping_method delivery_time   coupon_code     city  \\\n",
       "0  Cash on Delivery            Tiki      1 minggu  GRATISONGKIR  Jakarta   \n",
       "\n",
       "   product_id  sales_factor  \n",
       "0          12           0.7  "
      ]
     },
     "execution_count": 16,
     "metadata": {},
     "output_type": "execute_result"
    }
   ],
   "source": [
    "# mengecek kembali data yang null dan melihat hasilnya\n",
    "transaction.isnull().sum()\n",
    "transaction.head(1)\n"
   ]
  },
  {
   "cell_type": "code",
   "execution_count": 17,
   "metadata": {},
   "outputs": [
    {
     "data": {
      "text/plain": [
       "array(['Tiki', 'JNE', 'GrabExpress', 'POS Indonesia', 'GoSend'],\n",
       "      dtype=object)"
      ]
     },
     "execution_count": 17,
     "metadata": {},
     "output_type": "execute_result"
    }
   ],
   "source": [
    "transaction['shipping_method'].unique()"
   ]
  },
  {
   "cell_type": "code",
   "execution_count": 18,
   "metadata": {},
   "outputs": [
    {
     "name": "stdout",
     "output_type": "stream",
     "text": [
      "<class 'pandas.core.frame.DataFrame'>\n",
      "RangeIndex: 50000 entries, 0 to 49999\n",
      "Data columns (total 8 columns):\n",
      " #   Column                Non-Null Count  Dtype \n",
      "---  ------                --------------  ----- \n",
      " 0   customer_id           50000 non-null  int64 \n",
      " 1   name                  50000 non-null  object\n",
      " 2   email                 50000 non-null  object\n",
      " 3   address               50000 non-null  object\n",
      " 4   phone_number          50000 non-null  object\n",
      " 5   age                   50000 non-null  int64 \n",
      " 6   city                  50000 non-null  object\n",
      " 7   preferred_product_id  50000 non-null  int64 \n",
      "dtypes: int64(3), object(5)\n",
      "memory usage: 3.1+ MB\n"
     ]
    }
   ],
   "source": [
    "# info data set\n",
    "customer.info()"
   ]
  },
  {
   "cell_type": "code",
   "execution_count": 19,
   "metadata": {},
   "outputs": [
    {
     "data": {
      "text/html": [
       "<div>\n",
       "<style scoped>\n",
       "    .dataframe tbody tr th:only-of-type {\n",
       "        vertical-align: middle;\n",
       "    }\n",
       "\n",
       "    .dataframe tbody tr th {\n",
       "        vertical-align: top;\n",
       "    }\n",
       "\n",
       "    .dataframe thead th {\n",
       "        text-align: right;\n",
       "    }\n",
       "</style>\n",
       "<table border=\"1\" class=\"dataframe\">\n",
       "  <thead>\n",
       "    <tr style=\"text-align: right;\">\n",
       "      <th></th>\n",
       "      <th>customer_id</th>\n",
       "      <th>name</th>\n",
       "      <th>email</th>\n",
       "      <th>address</th>\n",
       "      <th>phone_number</th>\n",
       "      <th>age</th>\n",
       "      <th>city</th>\n",
       "      <th>preferred_product_id</th>\n",
       "    </tr>\n",
       "  </thead>\n",
       "  <tbody>\n",
       "    <tr>\n",
       "      <th>0</th>\n",
       "      <td>1</td>\n",
       "      <td>Pranata Natsir</td>\n",
       "      <td>marsudimaryati@example.net</td>\n",
       "      <td>Gang K.H. Wahid Hasyim No. 2\\nProbolinggo, Sul...</td>\n",
       "      <td>(049) 526-4376</td>\n",
       "      <td>28</td>\n",
       "      <td>Medan</td>\n",
       "      <td>4</td>\n",
       "    </tr>\n",
       "  </tbody>\n",
       "</table>\n",
       "</div>"
      ],
      "text/plain": [
       "   customer_id            name                       email  \\\n",
       "0            1  Pranata Natsir  marsudimaryati@example.net   \n",
       "\n",
       "                                             address    phone_number  age  \\\n",
       "0  Gang K.H. Wahid Hasyim No. 2\\nProbolinggo, Sul...  (049) 526-4376   28   \n",
       "\n",
       "    city  preferred_product_id  \n",
       "0  Medan                     4  "
      ]
     },
     "execution_count": 19,
     "metadata": {},
     "output_type": "execute_result"
    }
   ],
   "source": [
    "customer.head(1)"
   ]
  },
  {
   "cell_type": "code",
   "execution_count": 20,
   "metadata": {},
   "outputs": [
    {
     "data": {
      "text/html": [
       "<div>\n",
       "<style scoped>\n",
       "    .dataframe tbody tr th:only-of-type {\n",
       "        vertical-align: middle;\n",
       "    }\n",
       "\n",
       "    .dataframe tbody tr th {\n",
       "        vertical-align: top;\n",
       "    }\n",
       "\n",
       "    .dataframe thead th {\n",
       "        text-align: right;\n",
       "    }\n",
       "</style>\n",
       "<table border=\"1\" class=\"dataframe\">\n",
       "  <thead>\n",
       "    <tr style=\"text-align: right;\">\n",
       "      <th></th>\n",
       "      <th>age</th>\n",
       "      <th>city</th>\n",
       "      <th>preferred_product_id</th>\n",
       "    </tr>\n",
       "  </thead>\n",
       "  <tbody>\n",
       "    <tr>\n",
       "      <th>0</th>\n",
       "      <td>28</td>\n",
       "      <td>Medan</td>\n",
       "      <td>4</td>\n",
       "    </tr>\n",
       "    <tr>\n",
       "      <th>1</th>\n",
       "      <td>46</td>\n",
       "      <td>Medan</td>\n",
       "      <td>4</td>\n",
       "    </tr>\n",
       "    <tr>\n",
       "      <th>2</th>\n",
       "      <td>58</td>\n",
       "      <td>Makassar</td>\n",
       "      <td>2</td>\n",
       "    </tr>\n",
       "    <tr>\n",
       "      <th>3</th>\n",
       "      <td>59</td>\n",
       "      <td>Bandung</td>\n",
       "      <td>9</td>\n",
       "    </tr>\n",
       "    <tr>\n",
       "      <th>4</th>\n",
       "      <td>51</td>\n",
       "      <td>Bandung</td>\n",
       "      <td>3</td>\n",
       "    </tr>\n",
       "  </tbody>\n",
       "</table>\n",
       "</div>"
      ],
      "text/plain": [
       "   age      city  preferred_product_id\n",
       "0   28     Medan                     4\n",
       "1   46     Medan                     4\n",
       "2   58  Makassar                     2\n",
       "3   59   Bandung                     9\n",
       "4   51   Bandung                     3"
      ]
     },
     "execution_count": 20,
     "metadata": {},
     "output_type": "execute_result"
    }
   ],
   "source": [
    "# Hapus kolom yang tidak relevan\n",
    "customer_df = customer.drop(['customer_id', 'name', 'email', 'address', 'phone_number'], axis=1)\n",
    "\n",
    "# Menampilkan data setelah pembersihan\n",
    "customer_df.head(5)\n",
    "\n"
   ]
  },
  {
   "cell_type": "code",
   "execution_count": 21,
   "metadata": {},
   "outputs": [],
   "source": [
    "# Hapus kolom yang tidak relevan\n",
    "product_df = product.drop([ 'category', 'description', 'brand', 'years_since_release','preferred_product_id','sales_factor'], axis=1)\n"
   ]
  },
  {
   "cell_type": "code",
   "execution_count": 22,
   "metadata": {},
   "outputs": [
    {
     "data": {
      "text/html": [
       "<div>\n",
       "<style scoped>\n",
       "    .dataframe tbody tr th:only-of-type {\n",
       "        vertical-align: middle;\n",
       "    }\n",
       "\n",
       "    .dataframe tbody tr th {\n",
       "        vertical-align: top;\n",
       "    }\n",
       "\n",
       "    .dataframe thead th {\n",
       "        text-align: right;\n",
       "    }\n",
       "</style>\n",
       "<table border=\"1\" class=\"dataframe\">\n",
       "  <thead>\n",
       "    <tr style=\"text-align: right;\">\n",
       "      <th></th>\n",
       "      <th>customer_id</th>\n",
       "      <th>transaction_date</th>\n",
       "      <th>total_amount</th>\n",
       "      <th>payment_method</th>\n",
       "      <th>shipping_method</th>\n",
       "      <th>delivery_time</th>\n",
       "      <th>coupon_code</th>\n",
       "      <th>city</th>\n",
       "      <th>product_id</th>\n",
       "      <th>sales_factor</th>\n",
       "    </tr>\n",
       "  </thead>\n",
       "  <tbody>\n",
       "    <tr>\n",
       "      <th>0</th>\n",
       "      <td>506</td>\n",
       "      <td>2023-07-22</td>\n",
       "      <td>11300000.0</td>\n",
       "      <td>Cash on Delivery</td>\n",
       "      <td>Tiki</td>\n",
       "      <td>1 minggu</td>\n",
       "      <td>GRATISONGKIR</td>\n",
       "      <td>Jakarta</td>\n",
       "      <td>12</td>\n",
       "      <td>0.7</td>\n",
       "    </tr>\n",
       "    <tr>\n",
       "      <th>1</th>\n",
       "      <td>23275</td>\n",
       "      <td>2024-07-01</td>\n",
       "      <td>11053000.0</td>\n",
       "      <td>DANA</td>\n",
       "      <td>Tiki</td>\n",
       "      <td>2-3 hari</td>\n",
       "      <td>SALE20</td>\n",
       "      <td>Bandung</td>\n",
       "      <td>3</td>\n",
       "      <td>0.9</td>\n",
       "    </tr>\n",
       "    <tr>\n",
       "      <th>2</th>\n",
       "      <td>24101</td>\n",
       "      <td>2022-11-01</td>\n",
       "      <td>12741000.0</td>\n",
       "      <td>Transfer Bank</td>\n",
       "      <td>JNE</td>\n",
       "      <td>4-5 hari</td>\n",
       "      <td>No</td>\n",
       "      <td>Bandung</td>\n",
       "      <td>5</td>\n",
       "      <td>0.8</td>\n",
       "    </tr>\n",
       "    <tr>\n",
       "      <th>3</th>\n",
       "      <td>24188</td>\n",
       "      <td>2022-02-04</td>\n",
       "      <td>4921000.0</td>\n",
       "      <td>OVO</td>\n",
       "      <td>JNE</td>\n",
       "      <td>4-5 hari</td>\n",
       "      <td>SALE20</td>\n",
       "      <td>Yogyakarta</td>\n",
       "      <td>10</td>\n",
       "      <td>0.6</td>\n",
       "    </tr>\n",
       "    <tr>\n",
       "      <th>4</th>\n",
       "      <td>33766</td>\n",
       "      <td>2022-02-06</td>\n",
       "      <td>2163000.0</td>\n",
       "      <td>Transfer Bank</td>\n",
       "      <td>GrabExpress</td>\n",
       "      <td>1 minggu</td>\n",
       "      <td>No</td>\n",
       "      <td>Jakarta</td>\n",
       "      <td>11</td>\n",
       "      <td>0.7</td>\n",
       "    </tr>\n",
       "  </tbody>\n",
       "</table>\n",
       "</div>"
      ],
      "text/plain": [
       "   customer_id transaction_date  total_amount    payment_method  \\\n",
       "0          506       2023-07-22    11300000.0  Cash on Delivery   \n",
       "1        23275       2024-07-01    11053000.0              DANA   \n",
       "2        24101       2022-11-01    12741000.0     Transfer Bank   \n",
       "3        24188       2022-02-04     4921000.0               OVO   \n",
       "4        33766       2022-02-06     2163000.0     Transfer Bank   \n",
       "\n",
       "  shipping_method delivery_time   coupon_code        city  product_id  \\\n",
       "0            Tiki      1 minggu  GRATISONGKIR     Jakarta          12   \n",
       "1            Tiki      2-3 hari        SALE20     Bandung           3   \n",
       "2             JNE      4-5 hari            No     Bandung           5   \n",
       "3             JNE      4-5 hari        SALE20  Yogyakarta          10   \n",
       "4     GrabExpress      1 minggu            No     Jakarta          11   \n",
       "\n",
       "   sales_factor  \n",
       "0           0.7  \n",
       "1           0.9  \n",
       "2           0.8  \n",
       "3           0.6  \n",
       "4           0.7  "
      ]
     },
     "execution_count": 22,
     "metadata": {},
     "output_type": "execute_result"
    }
   ],
   "source": [
    "# Menghapus kolom 'transaction_id' dari dataset\n",
    "transaction_df = transaction.drop(columns=['transaction_id'])\n",
    "transaction_df.head()\n"
   ]
  },
  {
   "cell_type": "code",
   "execution_count": 23,
   "metadata": {},
   "outputs": [
    {
     "data": {
      "text/plain": [
       "array(['Black', 'Blue', 'Silver', 'Gold', 'Red', 'Green', 'Purple',\n",
       "       'Yellow', 'White', 'Pink', 'Space Gray'], dtype=object)"
      ]
     },
     "execution_count": 23,
     "metadata": {},
     "output_type": "execute_result"
    }
   ],
   "source": [
    "product['color'].unique()"
   ]
  },
  {
   "cell_type": "code",
   "execution_count": 38,
   "metadata": {},
   "outputs": [],
   "source": [
    "df = pd.merge(\n",
    "    customer, \n",
    "    transaction,\n",
    "     \n",
    "    how='inner',  # 'inner' akan menggabungkan hanya yang memiliki kecocokan\n",
    "    left_on=['customer_id', 'city', 'preferred_product_id'],  # Kolom yang cocok dari customer_df\n",
    "    right_on=['customer_id', 'city', 'product_id']  # Kolom yang cocok dari transaction_df\n",
    ")\n",
    "\n",
    "# Menampilkan data yang telah digabungkan\n",
    "df.head()"
   ]
  },
  {
   "cell_type": "code",
   "execution_count": 43,
   "metadata": {},
   "outputs": [
    {
     "data": {
      "text/html": [
       "<div>\n",
       "<style scoped>\n",
       "    .dataframe tbody tr th:only-of-type {\n",
       "        vertical-align: middle;\n",
       "    }\n",
       "\n",
       "    .dataframe tbody tr th {\n",
       "        vertical-align: top;\n",
       "    }\n",
       "\n",
       "    .dataframe thead th {\n",
       "        text-align: right;\n",
       "    }\n",
       "</style>\n",
       "<table border=\"1\" class=\"dataframe\">\n",
       "  <thead>\n",
       "    <tr style=\"text-align: right;\">\n",
       "      <th></th>\n",
       "      <th>customer_id</th>\n",
       "      <th>age</th>\n",
       "      <th>city</th>\n",
       "      <th>preferred_product_id</th>\n",
       "      <th>transaction_id</th>\n",
       "      <th>transaction_date</th>\n",
       "      <th>total_amount_customer</th>\n",
       "      <th>payment_method</th>\n",
       "      <th>shipping_method</th>\n",
       "      <th>delivery_time</th>\n",
       "      <th>coupon_code</th>\n",
       "      <th>product_id</th>\n",
       "      <th>sales_factor</th>\n",
       "      <th>quantity</th>\n",
       "      <th>unit_price</th>\n",
       "      <th>discount</th>\n",
       "      <th>total</th>\n",
       "    </tr>\n",
       "  </thead>\n",
       "  <tbody>\n",
       "    <tr>\n",
       "      <th>0</th>\n",
       "      <td>161</td>\n",
       "      <td>20</td>\n",
       "      <td>Bandung</td>\n",
       "      <td>4</td>\n",
       "      <td>84498</td>\n",
       "      <td>2024-02-05</td>\n",
       "      <td>9095000.0</td>\n",
       "      <td>GoPay</td>\n",
       "      <td>Tiki</td>\n",
       "      <td>1 minggu</td>\n",
       "      <td>No</td>\n",
       "      <td>4</td>\n",
       "      <td>0.9</td>\n",
       "      <td>2</td>\n",
       "      <td>12000000</td>\n",
       "      <td>5</td>\n",
       "      <td>22800000.0</td>\n",
       "    </tr>\n",
       "    <tr>\n",
       "      <th>1</th>\n",
       "      <td>163</td>\n",
       "      <td>66</td>\n",
       "      <td>Bandung</td>\n",
       "      <td>3</td>\n",
       "      <td>45025</td>\n",
       "      <td>2024-08-19</td>\n",
       "      <td>16693000.0</td>\n",
       "      <td>Cash on Delivery</td>\n",
       "      <td>GoSend</td>\n",
       "      <td>4-5 hari</td>\n",
       "      <td>No</td>\n",
       "      <td>3</td>\n",
       "      <td>0.9</td>\n",
       "      <td>1</td>\n",
       "      <td>10000000</td>\n",
       "      <td>5</td>\n",
       "      <td>9500000.0</td>\n",
       "    </tr>\n",
       "    <tr>\n",
       "      <th>2</th>\n",
       "      <td>220</td>\n",
       "      <td>45</td>\n",
       "      <td>Jakarta</td>\n",
       "      <td>10</td>\n",
       "      <td>43974</td>\n",
       "      <td>2022-07-19</td>\n",
       "      <td>5979000.0</td>\n",
       "      <td>Transfer Bank</td>\n",
       "      <td>GrabExpress</td>\n",
       "      <td>2-3 hari</td>\n",
       "      <td>DISCOUNT10</td>\n",
       "      <td>10</td>\n",
       "      <td>0.6</td>\n",
       "      <td>4</td>\n",
       "      <td>10000000</td>\n",
       "      <td>5</td>\n",
       "      <td>38000000.0</td>\n",
       "    </tr>\n",
       "    <tr>\n",
       "      <th>3</th>\n",
       "      <td>248</td>\n",
       "      <td>29</td>\n",
       "      <td>Bandung</td>\n",
       "      <td>6</td>\n",
       "      <td>72969</td>\n",
       "      <td>2024-09-09</td>\n",
       "      <td>2571000.0</td>\n",
       "      <td>Cash on Delivery</td>\n",
       "      <td>JNE</td>\n",
       "      <td>1 minggu</td>\n",
       "      <td>GRATISONGKIR</td>\n",
       "      <td>6</td>\n",
       "      <td>0.8</td>\n",
       "      <td>3</td>\n",
       "      <td>7000000</td>\n",
       "      <td>0</td>\n",
       "      <td>21000000.0</td>\n",
       "    </tr>\n",
       "    <tr>\n",
       "      <th>4</th>\n",
       "      <td>255</td>\n",
       "      <td>18</td>\n",
       "      <td>Jakarta</td>\n",
       "      <td>9</td>\n",
       "      <td>91082</td>\n",
       "      <td>2022-04-25</td>\n",
       "      <td>4487000.0</td>\n",
       "      <td>OVO</td>\n",
       "      <td>GrabExpress</td>\n",
       "      <td>4-5 hari</td>\n",
       "      <td>No</td>\n",
       "      <td>9</td>\n",
       "      <td>0.5</td>\n",
       "      <td>4</td>\n",
       "      <td>13000000</td>\n",
       "      <td>0</td>\n",
       "      <td>52000000.0</td>\n",
       "    </tr>\n",
       "  </tbody>\n",
       "</table>\n",
       "</div>"
      ],
      "text/plain": [
       "   customer_id  age     city  preferred_product_id  transaction_id  \\\n",
       "0          161   20  Bandung                     4           84498   \n",
       "1          163   66  Bandung                     3           45025   \n",
       "2          220   45  Jakarta                    10           43974   \n",
       "3          248   29  Bandung                     6           72969   \n",
       "4          255   18  Jakarta                     9           91082   \n",
       "\n",
       "  transaction_date  total_amount_customer    payment_method shipping_method  \\\n",
       "0       2024-02-05              9095000.0             GoPay            Tiki   \n",
       "1       2024-08-19             16693000.0  Cash on Delivery          GoSend   \n",
       "2       2022-07-19              5979000.0     Transfer Bank     GrabExpress   \n",
       "3       2024-09-09              2571000.0  Cash on Delivery             JNE   \n",
       "4       2022-04-25              4487000.0               OVO     GrabExpress   \n",
       "\n",
       "  delivery_time   coupon_code  product_id  sales_factor  quantity  unit_price  \\\n",
       "0      1 minggu            No           4           0.9         2    12000000   \n",
       "1      4-5 hari            No           3           0.9         1    10000000   \n",
       "2      2-3 hari    DISCOUNT10          10           0.6         4    10000000   \n",
       "3      1 minggu  GRATISONGKIR           6           0.8         3     7000000   \n",
       "4      4-5 hari            No           9           0.5         4    13000000   \n",
       "\n",
       "   discount       total  \n",
       "0         5  22800000.0  \n",
       "1         5   9500000.0  \n",
       "2         5  38000000.0  \n",
       "3         0  21000000.0  \n",
       "4         0  52000000.0  "
      ]
     },
     "execution_count": 43,
     "metadata": {},
     "output_type": "execute_result"
    }
   ],
   "source": [
    "import pandas as pd\n",
    "\n",
    "# Misalkan customer, transaction, dan transaction_deatil_df sudah ada\n",
    "\n",
    "# Gabungkan customer dengan transaction\n",
    "merged_customer_transaction = pd.merge(\n",
    "    customer,\n",
    "    transaction,\n",
    "    how='inner',  # 'inner' untuk hanya mengambil data yang cocok\n",
    "    left_on=['customer_id', 'city', 'preferred_product_id'],  # Kolom dari customer\n",
    "    right_on=['customer_id', 'city', 'product_id']  # Kolom dari transaction\n",
    ")\n",
    "\n",
    "# Ganti nama kolom total_amount di merged_customer_transaction untuk menghindari duplikasi\n",
    "merged_customer_transaction = merged_customer_transaction.rename(columns={'total_amount': 'total_amount_customer'})\n",
    "\n",
    "# Gabungkan dengan transaction_deatil_df\n",
    "df = pd.merge(\n",
    "    merged_customer_transaction, \n",
    "    transaction_deatil,\n",
    "    how='inner',  # 'inner' untuk hanya mengambil data yang cocok\n",
    "    on=['transaction_id', 'product_id']  # Kolom yang digunakan untuk penggabungan\n",
    ")\n",
    "\n",
    "# Tampilkan hasil gabungan\n",
    "df.head(5)"
   ]
  },
  {
   "cell_type": "code",
   "execution_count": 44,
   "metadata": {},
   "outputs": [
    {
     "name": "stdout",
     "output_type": "stream",
     "text": [
      "Data telah disimpan dengan nama 'data_cleanen.csv'.\n"
     ]
    }
   ],
   "source": [
    "# Menyimpan DataFrame df ke dalam file CSV dengan nama 'data_cleanen.csv'\n",
    "df.to_csv('data_cleanen.csv', index=False)\n",
    "\n",
    "# Konfirmasi bahwa file telah disimpan\n",
    "print(\"Data telah disimpan dengan nama 'data_cleanen.csv'.\")\n"
   ]
  }
 ],
 "metadata": {
  "kernelspec": {
   "display_name": ".venv",
   "language": "python",
   "name": "python3"
  },
  "language_info": {
   "codemirror_mode": {
    "name": "ipython",
    "version": 3
   },
   "file_extension": ".py",
   "mimetype": "text/x-python",
   "name": "python",
   "nbconvert_exporter": "python",
   "pygments_lexer": "ipython3",
   "version": "3.12.1"
  }
 },
 "nbformat": 4,
 "nbformat_minor": 2
}
