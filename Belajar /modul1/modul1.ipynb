{
 "cells": [
  {
   "cell_type": "markdown",
   "metadata": {},
   "source": [
    "# Pengumpulan Data dalam Machine Learning\n",
    "\n",
    "## Tahapan Pengumpulan Data\n",
    "\n",
    "### 1. Menentukan Kebutuhan Data\n",
    "- Tentukan apa yang ingin diprediksi atau dianalisis.\n",
    "- Identifikasi jenis data yang diperlukan dan jumlahnya.\n",
    "\n",
    "### 2. Memilih Sumber Data\n",
    "Pilih sumber data yang sesuai:\n",
    "- **Data Internal**: Data dari operasional bisnis seperti penjualan atau data pelanggan.\n",
    "- **Data Eksternal**: Data publik dari pemerintah atau data yang diambil dari internet.\n",
    "- **Data Sintetis**: Data yang dibuat secara artifisial berdasarkan karakteristik data nyata.\n",
    "- **Data dari Pengguna**: Data dari interaksi pengguna, ulasan produk, atau perilaku penelusuran.\n",
    "\n",
    "### 3. Mengumpulkan dan Menyimpan Data\n",
    "Kumpulkan data melalui:\n",
    "- **API**: Mengambil data dari layanan web.\n",
    "- **Survei**: Mengumpulkan data langsung dari responden.\n",
    "- **Web Scraping**: Mengambil data dari situs web.\n",
    "- **Impor Data**: Mengimpor data dari file seperti CSV atau Excel.\n",
    "\n",
    "Simpan data dengan baik dan aman dalam format yang mudah diakses.\n",
    "\n",
    "### 4. Validasi dan Pembersihan Data\n",
    "- Periksa data untuk kesalahan atau data yang hilang.\n",
    "- Bersihkan data untuk memastikan kualitas tinggi.\n",
    "\n",
    "## Cara Mengumpulkan Data\n",
    "\n",
    "### 1. Mengekstrak Data\n",
    "- Gunakan teknik web scraping untuk mengumpulkan data dari internet.\n",
    "\n",
    "### 2. Membuat Dataset Sendiri\n",
    "- Lakukan survei atau buat aplikasi untuk mengumpulkan data.\n",
    "- Gabungkan beberapa dataset dari data internal.\n",
    "\n",
    "### 3. Menggunakan Dataset yang Telah Ada\n",
    "- Gunakan dataset publik yang tersedia secara bebas atau dengan batasan tertentu.\n",
    "\n",
    "## Pentingnya Pengumpulan Data\n",
    "- **Menentukan Akurasi Model**: Data yang relevan dan berkualitas tinggi meningkatkan akurasi model.\n",
    "- **Mencegah Bias**: Data yang seimbang mengurangi risiko bias dalam model.\n",
    "- **Mengakomodasi Variasi**: Data yang mencerminkan variasi dunia nyata membuat model lebih adaptif.\n",
    "\n",
    "Dengan mengikuti tahapan dan cara pengumpulan data di atas, Anda dapat memastikan bahwa model machine learning Anda memiliki fondasi yang kuat untuk memberikan hasil yang andal."
   ]
  },
  {
   "cell_type": "code",
   "execution_count": 4,
   "metadata": {},
   "outputs": [],
   "source": [
    "import pandas as pd\n",
    "import numpy as np\n",
    "import os\n",
    "import zipfile\n",
    "import matplotlib.pyplot as plt\n",
    "import seaborn as sns\n",
    "from sklearn.preprocessing import StandardScaler\n",
    "from sklearn.model_selection import train_test_split"
   ]
  },
  {
   "cell_type": "code",
   "execution_count": 38,
   "metadata": {},
   "outputs": [
    {
     "name": "stdout",
     "output_type": "stream",
     "text": [
      "Current working directory: /workspaces/Belajar-Machine-Learning-Dasar/Belajar /modul1\n",
      "Error: [Errno 2] No such file or directory: '../Belajar/data/daftar-harga-rumah-jabodetabek.zip'\n",
      "Please check the file path and ensure the file exists.\n"
     ]
    }
   ],
   "source": [
    "import os\n",
    "import zipfile\n",
    "\n",
    "file_path = '../Belajar/data/daftar-harga-rumah-jabodetabek.zip'\n",
    "\n",
    "# Print the current working directory\n",
    "print(f\"Current working directory: {os.getcwd()}\")\n",
    "\n",
    "try:\n",
    "    with zipfile.ZipFile(file_path, 'r') as zip_ref:\n",
    "        zip_ref.extractall('path/to/extract')\n",
    "    print(f\"Extracted {file_path} successfully.\")\n",
    "except FileNotFoundError as e:\n",
    "    print(f\"Error: {e}\")\n",
    "    print(\"Please check the file path and ensure the file exists.\")"
   ]
  },
  {
   "cell_type": "code",
   "execution_count": 41,
   "metadata": {},
   "outputs": [
    {
     "ename": "ModuleNotFoundError",
     "evalue": "No module named 'kagglehub'",
     "output_type": "error",
     "traceback": [
      "\u001b[0;31m---------------------------------------------------------------------------\u001b[0m",
      "\u001b[0;31mModuleNotFoundError\u001b[0m                       Traceback (most recent call last)",
      "Cell \u001b[0;32mIn[41], line 1\u001b[0m\n\u001b[0;32m----> 1\u001b[0m \u001b[38;5;28;01mimport\u001b[39;00m \u001b[38;5;21;01mkagglehub\u001b[39;00m\n\u001b[1;32m      3\u001b[0m \u001b[38;5;66;03m# Download latest version\u001b[39;00m\n\u001b[1;32m      4\u001b[0m path \u001b[38;5;241m=\u001b[39m kagglehub\u001b[38;5;241m.\u001b[39mdataset_download(\u001b[38;5;124m\"\u001b[39m\u001b[38;5;124mnafisbarizki/daftar-harga-rumah-jabodetabek\u001b[39m\u001b[38;5;124m\"\u001b[39m)\n",
      "\u001b[0;31mModuleNotFoundError\u001b[0m: No module named 'kagglehub'"
     ]
    }
   ],
   "source": [
    "import kagglehub\n",
    "\n",
    "# Download latest version\n",
    "path = kagglehub.dataset_download(\"nafisbarizki/daftar-harga-rumah-jabodetabek\")\n",
    "\n",
    "print(\"Path to dataset files:\", path)"
   ]
  }
 ],
 "metadata": {
  "kernelspec": {
   "display_name": ".venv",
   "language": "python",
   "name": "python3"
  },
  "language_info": {
   "codemirror_mode": {
    "name": "ipython",
    "version": 3
   },
   "file_extension": ".py",
   "mimetype": "text/x-python",
   "name": "python",
   "nbconvert_exporter": "python",
   "pygments_lexer": "ipython3",
   "version": "3.12.1"
  }
 },
 "nbformat": 4,
 "nbformat_minor": 2
}
