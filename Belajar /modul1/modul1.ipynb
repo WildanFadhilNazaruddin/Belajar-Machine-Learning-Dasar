{
 "cells": [
  {
   "cell_type": "markdown",
   "metadata": {},
   "source": [
    "# Pengumpulan Data dalam Machine Learning\n",
    "\n",
    "## Tahapan Pengumpulan Data\n",
    "\n",
    "### 1. Menentukan Kebutuhan Data\n",
    "- Tentukan apa yang ingin diprediksi atau dianalisis.\n",
    "- Identifikasi jenis data yang diperlukan dan jumlahnya.\n",
    "\n",
    "### 2. Memilih Sumber Data\n",
    "Pilih sumber data yang sesuai:\n",
    "- **Data Internal**: Data dari operasional bisnis seperti penjualan atau data pelanggan.\n",
    "- **Data Eksternal**: Data publik dari pemerintah atau data yang diambil dari internet.\n",
    "- **Data Sintetis**: Data yang dibuat secara artifisial berdasarkan karakteristik data nyata.\n",
    "- **Data dari Pengguna**: Data dari interaksi pengguna, ulasan produk, atau perilaku penelusuran.\n",
    "\n",
    "### 3. Mengumpulkan dan Menyimpan Data\n",
    "Kumpulkan data melalui:\n",
    "- **API**: Mengambil data dari layanan web.\n",
    "- **Survei**: Mengumpulkan data langsung dari responden.\n",
    "- **Web Scraping**: Mengambil data dari situs web.\n",
    "- **Impor Data**: Mengimpor data dari file seperti CSV atau Excel.\n",
    "\n",
    "Simpan data dengan baik dan aman dalam format yang mudah diakses.\n",
    "\n",
    "### 4. Validasi dan Pembersihan Data\n",
    "- Periksa data untuk kesalahan atau data yang hilang.\n",
    "- Bersihkan data untuk memastikan kualitas tinggi.\n",
    "\n",
    "## Cara Mengumpulkan Data\n",
    "\n",
    "### 1. Mengekstrak Data\n",
    "- Gunakan teknik web scraping untuk mengumpulkan data dari internet.\n",
    "\n",
    "### 2. Membuat Dataset Sendiri\n",
    "- Lakukan survei atau buat aplikasi untuk mengumpulkan data.\n",
    "- Gabungkan beberapa dataset dari data internal.\n",
    "\n",
    "### 3. Menggunakan Dataset yang Telah Ada\n",
    "- Gunakan dataset publik yang tersedia secara bebas atau dengan batasan tertentu.\n",
    "\n",
    "## Pentingnya Pengumpulan Data\n",
    "- **Menentukan Akurasi Model**: Data yang relevan dan berkualitas tinggi meningkatkan akurasi model.\n",
    "- **Mencegah Bias**: Data yang seimbang mengurangi risiko bias dalam model.\n",
    "- **Mengakomodasi Variasi**: Data yang mencerminkan variasi dunia nyata membuat model lebih adaptif.\n",
    "\n",
    "Dengan mengikuti tahapan dan cara pengumpulan data di atas, Anda dapat memastikan bahwa model machine learning Anda memiliki fondasi yang kuat untuk memberikan hasil yang andal."
   ]
  },
  {
   "cell_type": "code",
   "execution_count": 1,
   "metadata": {},
   "outputs": [],
   "source": [
    "from ucimlrepo import fetch_ucirepo"
   ]
  },
  {
   "cell_type": "code",
   "execution_count": 2,
   "metadata": {},
   "outputs": [
    {
     "name": "stderr",
     "output_type": "stream",
     "text": [
      "/workspaces/Belajar-Machine-Learning-Dasar/.venv/lib/python3.12/site-packages/ucimlrepo/fetch.py:97: DtypeWarning: Columns (2,3,4,5,6,7) have mixed types. Specify dtype option on import or set low_memory=False.\n",
      "  df = pd.read_csv(data_url)\n"
     ]
    }
   ],
   "source": [
    "# fetch dataset \n",
    "individual_household_electric_power_consumption = fetch_ucirepo(id=235) "
   ]
  }
 ],
 "metadata": {
  "kernelspec": {
   "display_name": ".venv",
   "language": "python",
   "name": "python3"
  },
  "language_info": {
   "codemirror_mode": {
    "name": "ipython",
    "version": 3
   },
   "file_extension": ".py",
   "mimetype": "text/x-python",
   "name": "python",
   "nbconvert_exporter": "python",
   "pygments_lexer": "ipython3",
   "version": "3.12.1"
  }
 },
 "nbformat": 4,
 "nbformat_minor": 2
}
