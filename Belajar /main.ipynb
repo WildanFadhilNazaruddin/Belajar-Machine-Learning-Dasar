{
 "cells": [
  {
   "cell_type": "code",
   "execution_count": 1,
   "metadata": {},
   "outputs": [
    {
     "ename": "ModuleNotFoundError",
     "evalue": "No module named 'zip'",
     "output_type": "error",
     "traceback": [
      "\u001b[0;31m---------------------------------------------------------------------------\u001b[0m",
      "\u001b[0;31mModuleNotFoundError\u001b[0m                       Traceback (most recent call last)",
      "\u001b[1;32m/workspaces/Belajar-Machine-Learning-Dasar/Belajar /main.ipynb Cell 1\u001b[0m line \u001b[0;36m2\n\u001b[1;32m      <a href='vscode-notebook-cell://codespaces%2Bcrispy-goggles-g47g5pg64vx5hvpr5/workspaces/Belajar-Machine-Learning-Dasar/Belajar%20/main.ipynb#W0sdnNjb2RlLXJlbW90ZQ%3D%3D?line=0'>1</a>\u001b[0m \u001b[39mimport\u001b[39;00m \u001b[39mpandas\u001b[39;00m \u001b[39mas\u001b[39;00m \u001b[39mpd\u001b[39;00m \n\u001b[0;32m----> <a href='vscode-notebook-cell://codespaces%2Bcrispy-goggles-g47g5pg64vx5hvpr5/workspaces/Belajar-Machine-Learning-Dasar/Belajar%20/main.ipynb#W0sdnNjb2RlLXJlbW90ZQ%3D%3D?line=1'>2</a>\u001b[0m \u001b[39mimport\u001b[39;00m \u001b[39mzip\u001b[39;00m \u001b[39mas\u001b[39;00m \u001b[39mz\u001b[39;00m\n",
      "\u001b[0;31mModuleNotFoundError\u001b[0m: No module named 'zip'"
     ]
    }
   ],
   "source": [
    "import pandas as pd "
   ]
  },
  {
   "cell_type": "code",
   "execution_count": 4,
   "metadata": {},
   "outputs": [
    {
     "name": "stdout",
     "output_type": "stream",
     "text": [
      "File extracted to /workspaces/Belajar-Machine-Learning-Dasar/Belajar /data\n"
     ]
    }
   ],
   "source": [
    "import zipfile\n",
    "\n",
    "# Path to the zip file\n",
    "zip_file_path = r'/workspaces/Belajar-Machine-Learning-Dasar/2024-indonesian-election-results.zip'\n",
    "# Directory to extract to\n",
    "extract_to_path = r'/workspaces/Belajar-Machine-Learning-Dasar/Belajar /data'\n",
    "\n",
    "# Extract the zip file\n",
    "with zipfile.ZipFile(zip_file_path, 'r') as zip_ref:\n",
    "    zip_ref.extractall(extract_to_path)\n",
    "\n",
    "print(f'File extracted to {extract_to_path}')"
   ]
  }
 ],
 "metadata": {
  "language_info": {
   "name": "python"
  }
 },
 "nbformat": 4,
 "nbformat_minor": 2
}
