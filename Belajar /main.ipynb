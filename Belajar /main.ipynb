{
 "cells": [
  {
   "cell_type": "markdown",
   "metadata": {},
   "source": [
    "# Mengimpor Library di Python"
   ]
  },
  {
   "cell_type": "markdown",
   "metadata": {},
   "source": [
    "Mengimpor library di Python adalah langkah penting dalam pengembangan aplikasi. Library menyediakan fungsi dan kelas yang dapat digunakan untuk menyelesaikan berbagai tugas tanpa harus menulis kode dari awal. Berikut adalah tahapan dan kebutuhan dalam mengimpor library di Python:\n"
   ]
  },
  {
   "cell_type": "code",
   "execution_count": 2,
   "metadata": {},
   "outputs": [],
   "source": [
    "import pandas as pd\n",
    "import numpy as np\n",
    "import kagglehub\n",
    "import zipfile\n",
    "import os"
   ]
  },
  {
   "cell_type": "code",
   "execution_count": 12,
   "metadata": {},
   "outputs": [],
   "source": [
    "ecomers = pd.read_csv('../Belajar /data/data_produk.csv')"
   ]
  },
  {
   "cell_type": "code",
   "execution_count": 13,
   "metadata": {},
   "outputs": [
    {
     "data": {
      "text/html": [
       "<div>\n",
       "<style scoped>\n",
       "    .dataframe tbody tr th:only-of-type {\n",
       "        vertical-align: middle;\n",
       "    }\n",
       "\n",
       "    .dataframe tbody tr th {\n",
       "        vertical-align: top;\n",
       "    }\n",
       "\n",
       "    .dataframe thead th {\n",
       "        text-align: right;\n",
       "    }\n",
       "</style>\n",
       "<table border=\"1\" class=\"dataframe\">\n",
       "  <thead>\n",
       "    <tr style=\"text-align: right;\">\n",
       "      <th></th>\n",
       "      <th>item_name</th>\n",
       "      <th>description</th>\n",
       "      <th>category</th>\n",
       "      <th>price</th>\n",
       "      <th>colour</th>\n",
       "      <th>shop_name</th>\n",
       "    </tr>\n",
       "  </thead>\n",
       "  <tbody>\n",
       "    <tr>\n",
       "      <th>0</th>\n",
       "      <td>Sepatu Sneakers</td>\n",
       "      <td>Sepatu Sneakers adalah pilihan yang sempurna u...</td>\n",
       "      <td>Sepatu</td>\n",
       "      <td>100000</td>\n",
       "      <td>Putih</td>\n",
       "      <td>Home Essentials</td>\n",
       "    </tr>\n",
       "    <tr>\n",
       "      <th>1</th>\n",
       "      <td>Tas Ransel Stylish</td>\n",
       "      <td>Tas Ransel Stylish memberikan gaya dan fungsi ...</td>\n",
       "      <td>Tas</td>\n",
       "      <td>200000</td>\n",
       "      <td>Merah</td>\n",
       "      <td>Sports World</td>\n",
       "    </tr>\n",
       "    <tr>\n",
       "      <th>2</th>\n",
       "      <td>Kemeja Flanel Modern</td>\n",
       "      <td>Kemeja Flanel Modern memberikan tampilan yang ...</td>\n",
       "      <td>Kemeja</td>\n",
       "      <td>150000</td>\n",
       "      <td>Hijau</td>\n",
       "      <td>Gourmet Delights</td>\n",
       "    </tr>\n",
       "    <tr>\n",
       "      <th>3</th>\n",
       "      <td>Celana Jeans Slim Fit</td>\n",
       "      <td>Celana Jeans Slim Fit adalah pilihan yang tepa...</td>\n",
       "      <td>Celana</td>\n",
       "      <td>250000</td>\n",
       "      <td>Biru</td>\n",
       "      <td>Gadget Hub</td>\n",
       "    </tr>\n",
       "    <tr>\n",
       "      <th>4</th>\n",
       "      <td>Topi Fedora Elegan</td>\n",
       "      <td>Topi Fedora Elegan memberikan sentuhan klasik ...</td>\n",
       "      <td>Topi</td>\n",
       "      <td>50000</td>\n",
       "      <td>Abu-abu</td>\n",
       "      <td>Gourmet Delights</td>\n",
       "    </tr>\n",
       "  </tbody>\n",
       "</table>\n",
       "</div>"
      ],
      "text/plain": [
       "               item_name                                        description  \\\n",
       "0        Sepatu Sneakers  Sepatu Sneakers adalah pilihan yang sempurna u...   \n",
       "1     Tas Ransel Stylish  Tas Ransel Stylish memberikan gaya dan fungsi ...   \n",
       "2   Kemeja Flanel Modern  Kemeja Flanel Modern memberikan tampilan yang ...   \n",
       "3  Celana Jeans Slim Fit  Celana Jeans Slim Fit adalah pilihan yang tepa...   \n",
       "4     Topi Fedora Elegan  Topi Fedora Elegan memberikan sentuhan klasik ...   \n",
       "\n",
       "  category   price   colour         shop_name  \n",
       "0   Sepatu  100000    Putih   Home Essentials  \n",
       "1      Tas  200000    Merah      Sports World  \n",
       "2   Kemeja  150000    Hijau  Gourmet Delights  \n",
       "3   Celana  250000     Biru        Gadget Hub  \n",
       "4     Topi   50000  Abu-abu  Gourmet Delights  "
      ]
     },
     "execution_count": 13,
     "metadata": {},
     "output_type": "execute_result"
    }
   ],
   "source": [
    "ecomers.head()"
   ]
  }
 ],
 "metadata": {
  "kernelspec": {
   "display_name": ".env",
   "language": "python",
   "name": "python3"
  },
  "language_info": {
   "codemirror_mode": {
    "name": "ipython",
    "version": 3
   },
   "file_extension": ".py",
   "mimetype": "text/x-python",
   "name": "python",
   "nbconvert_exporter": "python",
   "pygments_lexer": "ipython3",
   "version": "3.12.1"
  }
 },
 "nbformat": 4,
 "nbformat_minor": 2
}
